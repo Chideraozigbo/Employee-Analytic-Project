{
 "cells": [
  {
   "cell_type": "code",
   "execution_count": 0,
   "metadata": {
    "application/vnd.databricks.v1+cell": {
     "cellMetadata": {
      "byteLimit": 2048000,
      "rowLimit": 10000
     },
     "inputWidgets": {},
     "nuid": "9d4091c1-9dea-4070-a318-d52bd3aa72b6",
     "showTitle": false,
     "tableResultSettingsMap": {},
     "title": ""
    }
   },
   "outputs": [],
   "source": [
    "from pyspark.sql.functions import col, expr, current_timestamp"
   ]
  },
  {
   "cell_type": "code",
   "execution_count": 0,
   "metadata": {
    "application/vnd.databricks.v1+cell": {
     "cellMetadata": {
      "byteLimit": 2048000,
      "implicitDf": true,
      "rowLimit": 10000
     },
     "inputWidgets": {},
     "nuid": "786bf362-451e-451d-b879-095f80c04f2e",
     "showTitle": false,
     "tableResultSettingsMap": {},
     "title": ""
    }
   },
   "outputs": [],
   "source": [
    "departments_bronze_df = spark.read.table(\"employee_catalog.raw.departments\")"
   ]
  },
  {
   "cell_type": "code",
   "execution_count": 0,
   "metadata": {
    "application/vnd.databricks.v1+cell": {
     "cellMetadata": {
      "byteLimit": 2048000,
      "rowLimit": 10000
     },
     "inputWidgets": {},
     "nuid": "9672e29e-a374-41b5-b969-3cd746c0b652",
     "showTitle": false,
     "tableResultSettingsMap": {},
     "title": ""
    }
   },
   "outputs": [
    {
     "output_type": "stream",
     "name": "stdout",
     "output_type": "stream",
     "text": [
      "root\n |-- _airbyte_ab_id: string (nullable = true)\n |-- _airbyte_emitted_at: long (nullable = true)\n |-- _ab_cdc_cursor: string (nullable = true)\n |-- _ab_cdc_deleted_at: string (nullable = true)\n |-- _ab_cdc_log_file: string (nullable = true)\n |-- _ab_cdc_log_pos: integer (nullable = true)\n |-- _ab_cdc_updated_at: timestamp (nullable = true)\n |-- dept_name: string (nullable = true)\n |-- dept_no: string (nullable = true)\n |-- _file_name: string (nullable = true)\n |-- load_date: timestamp (nullable = true)\n\n"
     ]
    }
   ],
   "source": [
    "# Show raw schema (includes Airbyte columns)\n",
    "departments_bronze_df.printSchema()"
   ]
  },
  {
   "cell_type": "code",
   "execution_count": 0,
   "metadata": {
    "application/vnd.databricks.v1+cell": {
     "cellMetadata": {
      "byteLimit": 2048000,
      "rowLimit": 10000
     },
     "inputWidgets": {},
     "nuid": "c31165b0-e02c-49a2-ba0b-1d9bc7bdf104",
     "showTitle": false,
     "tableResultSettingsMap": {},
     "title": ""
    }
   },
   "outputs": [
    {
     "output_type": "display_data",
     "data": {
      "text/html": [
       "<style scoped>\n",
       "  .table-result-container {\n",
       "    max-height: 300px;\n",
       "    overflow: auto;\n",
       "  }\n",
       "  table, th, td {\n",
       "    border: 1px solid black;\n",
       "    border-collapse: collapse;\n",
       "  }\n",
       "  th, td {\n",
       "    padding: 5px;\n",
       "  }\n",
       "  th {\n",
       "    text-align: left;\n",
       "  }\n",
       "</style><div class='table-result-container'><table class='table-result'><thead style='background-color: white'><tr><th>_airbyte_ab_id</th><th>_airbyte_emitted_at</th><th>_ab_cdc_cursor</th><th>_ab_cdc_deleted_at</th><th>_ab_cdc_log_file</th><th>_ab_cdc_log_pos</th><th>_ab_cdc_updated_at</th><th>dept_name</th><th>dept_no</th><th>_file_name</th><th>load_date</th></tr></thead><tbody><tr><td>a479f4cb-bb6b-4a2e-b777-754ac647fd75</td><td>1738956715421</td><td>null</td><td>null</td><td>mysql-bin.000003</td><td>66100231</td><td>2025-02-07T19:31:55.421Z</td><td>Marketing</td><td>d001</td><td>dbfs:/mnt/raw/departments/2025_02_07_1738956715753_0.csv</td><td>2025-02-10T13:33:09.111Z</td></tr><tr><td>f55a7bf7-e8b8-4213-9b41-3178d162b61f</td><td>1738956715421</td><td>null</td><td>null</td><td>mysql-bin.000003</td><td>66100231</td><td>2025-02-07T19:31:55.421Z</td><td>Finance</td><td>d002</td><td>dbfs:/mnt/raw/departments/2025_02_07_1738956715753_0.csv</td><td>2025-02-10T13:33:09.111Z</td></tr><tr><td>b1656ee6-0bdc-4611-b33a-3f4244a41951</td><td>1738956715421</td><td>null</td><td>null</td><td>mysql-bin.000003</td><td>66100231</td><td>2025-02-07T19:31:55.421Z</td><td>Human Resources</td><td>d003</td><td>dbfs:/mnt/raw/departments/2025_02_07_1738956715753_0.csv</td><td>2025-02-10T13:33:09.111Z</td></tr><tr><td>1234c58d-cc06-44a4-a011-a69622a96cc2</td><td>1738956715421</td><td>null</td><td>null</td><td>mysql-bin.000003</td><td>66100231</td><td>2025-02-07T19:31:55.421Z</td><td>Production</td><td>d004</td><td>dbfs:/mnt/raw/departments/2025_02_07_1738956715753_0.csv</td><td>2025-02-10T13:33:09.111Z</td></tr><tr><td>958720fe-e22e-4aa9-ba63-272d9462f987</td><td>1738956715421</td><td>null</td><td>null</td><td>mysql-bin.000003</td><td>66100231</td><td>2025-02-07T19:31:55.421Z</td><td>Development</td><td>d005</td><td>dbfs:/mnt/raw/departments/2025_02_07_1738956715753_0.csv</td><td>2025-02-10T13:33:09.111Z</td></tr><tr><td>5ebac472-7654-4e2b-929d-bed5c402f001</td><td>1738956715421</td><td>null</td><td>null</td><td>mysql-bin.000003</td><td>66100231</td><td>2025-02-07T19:31:55.421Z</td><td>Quality Management</td><td>d006</td><td>dbfs:/mnt/raw/departments/2025_02_07_1738956715753_0.csv</td><td>2025-02-10T13:33:09.111Z</td></tr><tr><td>6f734bc5-1971-4757-8d62-62ae58039dad</td><td>1738956715421</td><td>null</td><td>null</td><td>mysql-bin.000003</td><td>66100231</td><td>2025-02-07T19:31:55.421Z</td><td>Sales</td><td>d007</td><td>dbfs:/mnt/raw/departments/2025_02_07_1738956715753_0.csv</td><td>2025-02-10T13:33:09.111Z</td></tr><tr><td>c9bfb984-9666-4440-a281-337e706197a8</td><td>1738956715421</td><td>null</td><td>null</td><td>mysql-bin.000003</td><td>66100231</td><td>2025-02-07T19:31:55.421Z</td><td>Research</td><td>d008</td><td>dbfs:/mnt/raw/departments/2025_02_07_1738956715753_0.csv</td><td>2025-02-10T13:33:09.111Z</td></tr><tr><td>398150c6-f08a-4f79-b40b-b509abde3e62</td><td>1738956715421</td><td>null</td><td>null</td><td>mysql-bin.000003</td><td>66100231</td><td>2025-02-07T19:31:55.421Z</td><td>Customer Service</td><td>d009</td><td>dbfs:/mnt/raw/departments/2025_02_07_1738956715753_0.csv</td><td>2025-02-10T13:33:09.111Z</td></tr></tbody></table></div>"
      ]
     },
     "metadata": {
      "application/vnd.databricks.v1+output": {
       "addedWidgets": {},
       "aggData": [],
       "aggError": "",
       "aggOverflow": false,
       "aggSchema": [],
       "aggSeriesLimitReached": false,
       "aggType": "",
       "arguments": {},
       "columnCustomDisplayInfos": {},
       "data": [
        [
         "a479f4cb-bb6b-4a2e-b777-754ac647fd75",
         1738956715421,
         "null",
         "null",
         "mysql-bin.000003",
         66100231,
         "2025-02-07T19:31:55.421Z",
         "Marketing",
         "d001",
         "dbfs:/mnt/raw/departments/2025_02_07_1738956715753_0.csv",
         "2025-02-10T13:33:09.111Z"
        ],
        [
         "f55a7bf7-e8b8-4213-9b41-3178d162b61f",
         1738956715421,
         "null",
         "null",
         "mysql-bin.000003",
         66100231,
         "2025-02-07T19:31:55.421Z",
         "Finance",
         "d002",
         "dbfs:/mnt/raw/departments/2025_02_07_1738956715753_0.csv",
         "2025-02-10T13:33:09.111Z"
        ],
        [
         "b1656ee6-0bdc-4611-b33a-3f4244a41951",
         1738956715421,
         "null",
         "null",
         "mysql-bin.000003",
         66100231,
         "2025-02-07T19:31:55.421Z",
         "Human Resources",
         "d003",
         "dbfs:/mnt/raw/departments/2025_02_07_1738956715753_0.csv",
         "2025-02-10T13:33:09.111Z"
        ],
        [
         "1234c58d-cc06-44a4-a011-a69622a96cc2",
         1738956715421,
         "null",
         "null",
         "mysql-bin.000003",
         66100231,
         "2025-02-07T19:31:55.421Z",
         "Production",
         "d004",
         "dbfs:/mnt/raw/departments/2025_02_07_1738956715753_0.csv",
         "2025-02-10T13:33:09.111Z"
        ],
        [
         "958720fe-e22e-4aa9-ba63-272d9462f987",
         1738956715421,
         "null",
         "null",
         "mysql-bin.000003",
         66100231,
         "2025-02-07T19:31:55.421Z",
         "Development",
         "d005",
         "dbfs:/mnt/raw/departments/2025_02_07_1738956715753_0.csv",
         "2025-02-10T13:33:09.111Z"
        ],
        [
         "5ebac472-7654-4e2b-929d-bed5c402f001",
         1738956715421,
         "null",
         "null",
         "mysql-bin.000003",
         66100231,
         "2025-02-07T19:31:55.421Z",
         "Quality Management",
         "d006",
         "dbfs:/mnt/raw/departments/2025_02_07_1738956715753_0.csv",
         "2025-02-10T13:33:09.111Z"
        ],
        [
         "6f734bc5-1971-4757-8d62-62ae58039dad",
         1738956715421,
         "null",
         "null",
         "mysql-bin.000003",
         66100231,
         "2025-02-07T19:31:55.421Z",
         "Sales",
         "d007",
         "dbfs:/mnt/raw/departments/2025_02_07_1738956715753_0.csv",
         "2025-02-10T13:33:09.111Z"
        ],
        [
         "c9bfb984-9666-4440-a281-337e706197a8",
         1738956715421,
         "null",
         "null",
         "mysql-bin.000003",
         66100231,
         "2025-02-07T19:31:55.421Z",
         "Research",
         "d008",
         "dbfs:/mnt/raw/departments/2025_02_07_1738956715753_0.csv",
         "2025-02-10T13:33:09.111Z"
        ],
        [
         "398150c6-f08a-4f79-b40b-b509abde3e62",
         1738956715421,
         "null",
         "null",
         "mysql-bin.000003",
         66100231,
         "2025-02-07T19:31:55.421Z",
         "Customer Service",
         "d009",
         "dbfs:/mnt/raw/departments/2025_02_07_1738956715753_0.csv",
         "2025-02-10T13:33:09.111Z"
        ]
       ],
       "datasetInfos": [],
       "dbfsResultPath": null,
       "isJsonSchema": true,
       "metadata": {},
       "overflow": false,
       "plotOptions": {
        "customPlotOptions": {},
        "displayType": "table",
        "pivotAggregation": null,
        "pivotColumns": null,
        "xColumns": null,
        "yColumns": null
       },
       "removedWidgets": [],
       "schema": [
        {
         "metadata": "{}",
         "name": "_airbyte_ab_id",
         "type": "\"string\""
        },
        {
         "metadata": "{}",
         "name": "_airbyte_emitted_at",
         "type": "\"long\""
        },
        {
         "metadata": "{}",
         "name": "_ab_cdc_cursor",
         "type": "\"string\""
        },
        {
         "metadata": "{}",
         "name": "_ab_cdc_deleted_at",
         "type": "\"string\""
        },
        {
         "metadata": "{}",
         "name": "_ab_cdc_log_file",
         "type": "\"string\""
        },
        {
         "metadata": "{}",
         "name": "_ab_cdc_log_pos",
         "type": "\"integer\""
        },
        {
         "metadata": "{}",
         "name": "_ab_cdc_updated_at",
         "type": "\"timestamp\""
        },
        {
         "metadata": "{}",
         "name": "dept_name",
         "type": "\"string\""
        },
        {
         "metadata": "{}",
         "name": "dept_no",
         "type": "\"string\""
        },
        {
         "metadata": "{}",
         "name": "_file_name",
         "type": "\"string\""
        },
        {
         "metadata": "{}",
         "name": "load_date",
         "type": "\"timestamp\""
        }
       ],
       "type": "table"
      }
     },
     "output_type": "display_data"
    }
   ],
   "source": [
    "display(departments_bronze_df)"
   ]
  },
  {
   "cell_type": "code",
   "execution_count": 0,
   "metadata": {
    "application/vnd.databricks.v1+cell": {
     "cellMetadata": {
      "byteLimit": 2048000,
      "rowLimit": 10000
     },
     "inputWidgets": {},
     "nuid": "7aaa8b3e-940b-4eb0-8753-4a6800a6ca82",
     "showTitle": false,
     "tableResultSettingsMap": {},
     "title": ""
    }
   },
   "outputs": [],
   "source": [
    "departments_bronze_df = departments_bronze_df.select(\n",
    "    expr(\"TRIM(dept_no)\").alias(\"dept_no\"),\n",
    "    expr(\"TRIM(dept_name)\").alias(\"dept_name\"),\n",
    "    col(\"_ab_cdc_updated_at\").alias(\"updated_at\")\n",
    ") \\\n",
    ".withColumn(\"load_date\", current_timestamp()) \\\n",
    ".where(col(\"dept_no\").isNotNull())"
   ]
  },
  {
   "cell_type": "code",
   "execution_count": 0,
   "metadata": {
    "application/vnd.databricks.v1+cell": {
     "cellMetadata": {
      "byteLimit": 2048000,
      "rowLimit": 10000
     },
     "inputWidgets": {},
     "nuid": "515e0032-2f70-4a9c-87ea-61d317dbfa6f",
     "showTitle": false,
     "tableResultSettingsMap": {},
     "title": ""
    }
   },
   "outputs": [
    {
     "output_type": "display_data",
     "data": {
      "text/html": [
       "<style scoped>\n",
       "  .table-result-container {\n",
       "    max-height: 300px;\n",
       "    overflow: auto;\n",
       "  }\n",
       "  table, th, td {\n",
       "    border: 1px solid black;\n",
       "    border-collapse: collapse;\n",
       "  }\n",
       "  th, td {\n",
       "    padding: 5px;\n",
       "  }\n",
       "  th {\n",
       "    text-align: left;\n",
       "  }\n",
       "</style><div class='table-result-container'><table class='table-result'><thead style='background-color: white'><tr><th>dept_no</th><th>dept_name</th><th>updated_at</th><th>load_date</th></tr></thead><tbody><tr><td>d001</td><td>Marketing</td><td>2025-02-07T19:31:55.421Z</td><td>2025-02-10T15:57:27.644Z</td></tr><tr><td>d002</td><td>Finance</td><td>2025-02-07T19:31:55.421Z</td><td>2025-02-10T15:57:27.644Z</td></tr><tr><td>d003</td><td>Human Resources</td><td>2025-02-07T19:31:55.421Z</td><td>2025-02-10T15:57:27.644Z</td></tr><tr><td>d004</td><td>Production</td><td>2025-02-07T19:31:55.421Z</td><td>2025-02-10T15:57:27.644Z</td></tr><tr><td>d005</td><td>Development</td><td>2025-02-07T19:31:55.421Z</td><td>2025-02-10T15:57:27.644Z</td></tr><tr><td>d006</td><td>Quality Management</td><td>2025-02-07T19:31:55.421Z</td><td>2025-02-10T15:57:27.644Z</td></tr><tr><td>d007</td><td>Sales</td><td>2025-02-07T19:31:55.421Z</td><td>2025-02-10T15:57:27.644Z</td></tr><tr><td>d008</td><td>Research</td><td>2025-02-07T19:31:55.421Z</td><td>2025-02-10T15:57:27.644Z</td></tr><tr><td>d009</td><td>Customer Service</td><td>2025-02-07T19:31:55.421Z</td><td>2025-02-10T15:57:27.644Z</td></tr></tbody></table></div>"
      ]
     },
     "metadata": {
      "application/vnd.databricks.v1+output": {
       "addedWidgets": {},
       "aggData": [],
       "aggError": "",
       "aggOverflow": false,
       "aggSchema": [],
       "aggSeriesLimitReached": false,
       "aggType": "",
       "arguments": {},
       "columnCustomDisplayInfos": {},
       "data": [
        [
         "d001",
         "Marketing",
         "2025-02-07T19:31:55.421Z",
         "2025-02-10T15:57:27.644Z"
        ],
        [
         "d002",
         "Finance",
         "2025-02-07T19:31:55.421Z",
         "2025-02-10T15:57:27.644Z"
        ],
        [
         "d003",
         "Human Resources",
         "2025-02-07T19:31:55.421Z",
         "2025-02-10T15:57:27.644Z"
        ],
        [
         "d004",
         "Production",
         "2025-02-07T19:31:55.421Z",
         "2025-02-10T15:57:27.644Z"
        ],
        [
         "d005",
         "Development",
         "2025-02-07T19:31:55.421Z",
         "2025-02-10T15:57:27.644Z"
        ],
        [
         "d006",
         "Quality Management",
         "2025-02-07T19:31:55.421Z",
         "2025-02-10T15:57:27.644Z"
        ],
        [
         "d007",
         "Sales",
         "2025-02-07T19:31:55.421Z",
         "2025-02-10T15:57:27.644Z"
        ],
        [
         "d008",
         "Research",
         "2025-02-07T19:31:55.421Z",
         "2025-02-10T15:57:27.644Z"
        ],
        [
         "d009",
         "Customer Service",
         "2025-02-07T19:31:55.421Z",
         "2025-02-10T15:57:27.644Z"
        ]
       ],
       "datasetInfos": [],
       "dbfsResultPath": null,
       "isJsonSchema": true,
       "metadata": {},
       "overflow": false,
       "plotOptions": {
        "customPlotOptions": {},
        "displayType": "table",
        "pivotAggregation": null,
        "pivotColumns": null,
        "xColumns": null,
        "yColumns": null
       },
       "removedWidgets": [],
       "schema": [
        {
         "metadata": "{}",
         "name": "dept_no",
         "type": "\"string\""
        },
        {
         "metadata": "{}",
         "name": "dept_name",
         "type": "\"string\""
        },
        {
         "metadata": "{}",
         "name": "updated_at",
         "type": "\"timestamp\""
        },
        {
         "metadata": "{}",
         "name": "load_date",
         "type": "\"timestamp\""
        }
       ],
       "type": "table"
      }
     },
     "output_type": "display_data"
    }
   ],
   "source": [
    "display(departments_bronze_df.limit(10))"
   ]
  },
  {
   "cell_type": "code",
   "execution_count": 0,
   "metadata": {
    "application/vnd.databricks.v1+cell": {
     "cellMetadata": {
      "byteLimit": 2048000,
      "rowLimit": 10000
     },
     "inputWidgets": {},
     "nuid": "42f8bc37-f674-4213-a9dd-002b8bdc4512",
     "showTitle": false,
     "tableResultSettingsMap": {},
     "title": ""
    }
   },
   "outputs": [
    {
     "output_type": "execute_result",
     "data": {
      "text/plain": [
       "DataFrame[]"
      ]
     },
     "execution_count": 9,
     "metadata": {},
     "output_type": "execute_result"
    }
   ],
   "source": [
    "spark.sql(f\"CREATE SCHEMA IF NOT EXISTS employee_catalog.silver\")"
   ]
  },
  {
   "cell_type": "code",
   "execution_count": 0,
   "metadata": {
    "application/vnd.databricks.v1+cell": {
     "cellMetadata": {
      "byteLimit": 2048000,
      "rowLimit": 10000
     },
     "inputWidgets": {},
     "nuid": "5c7b2afd-0b93-47f4-a9bb-7ac39ad7da3d",
     "showTitle": false,
     "tableResultSettingsMap": {},
     "title": ""
    }
   },
   "outputs": [],
   "source": [
    "departments_bronze_df \\\n",
    "    .write.mode(\"overwrite\") \\\n",
    "    .saveAsTable(\"employee_catalog.silver.departments\")"
   ]
  },
  {
   "cell_type": "code",
   "execution_count": 0,
   "metadata": {
    "application/vnd.databricks.v1+cell": {
     "cellMetadata": {
      "byteLimit": 2048000,
      "rowLimit": 10000
     },
     "inputWidgets": {},
     "nuid": "a2a502dc-7d4a-4470-b82a-181c01b61da6",
     "showTitle": false,
     "tableResultSettingsMap": {},
     "title": ""
    }
   },
   "outputs": [],
   "source": [
    "# MERGE INTO silver_employees AS target\n",
    "# USING (\n",
    "#     SELECT emp_no, birth_date, first_name, last_name, gender, hire_date, _airbyte_emitted_at AS updated_at\n",
    "#     FROM raw_employees\n",
    "# ) AS source\n",
    "# ON target.emp_no = source.emp_no\n",
    "# WHEN MATCHED THEN \n",
    "#     UPDATE SET \n",
    "#         target.first_name = source.first_name,\n",
    "#         target.last_name = source.last_name,\n",
    "#         target.gender = source.gender,\n",
    "#         target.hire_date = source.hire_date,\n",
    "#         target.updated_at = source.updated_at\n",
    "# WHEN NOT MATCHED THEN \n",
    "#     INSERT (emp_no, birth_date, first_name, last_name, gender, hire_date, updated_at)\n",
    "#     VALUES (source.emp_no, source.birth_date, source.first_name, source.last_name, source.gender, source.hire_date, source.updated_at);\n"
   ]
  },
  {
   "cell_type": "code",
   "execution_count": 0,
   "metadata": {
    "application/vnd.databricks.v1+cell": {
     "cellMetadata": {
      "byteLimit": 2048000,
      "rowLimit": 10000
     },
     "inputWidgets": {},
     "nuid": "46896e67-cb46-4d72-939f-283097bc5f55",
     "showTitle": false,
     "tableResultSettingsMap": {},
     "title": ""
    }
   },
   "outputs": [],
   "source": [
    "# MERGE INTO silver_salaries AS target\n",
    "# USING (\n",
    "#     SELECT emp_no, salary, from_date AS effective_from, to_date AS effective_to\n",
    "#     FROM raw_salaries\n",
    "# ) AS source\n",
    "# ON target.emp_no = source.emp_no \n",
    "#    AND target.is_current = 'Y'  -- Only update current records\n",
    "#    AND source.effective_from > target.effective_from  -- Ensure new salary is later\n",
    "# WHEN MATCHED AND source.salary <> target.salary THEN\n",
    "#     -- Mark old record as historical\n",
    "#     UPDATE SET \n",
    "#         target.effective_to = source.effective_from - INTERVAL '1 DAY',\n",
    "#         target.is_current = 'N'\n",
    "# WHEN NOT MATCHED THEN \n",
    "#     -- Insert new record\n",
    "#     INSERT (emp_no, salary, effective_from, effective_to, is_current)\n",
    "#     VALUES (source.emp_no, source.salary, source.effective_from, source.effective_to, \n",
    "#             CASE WHEN source.effective_to IS NULL THEN 'Y' ELSE 'N' END);\n"
   ]
  },
  {
   "cell_type": "code",
   "execution_count": 0,
   "metadata": {
    "application/vnd.databricks.v1+cell": {
     "cellMetadata": {
      "byteLimit": 2048000,
      "rowLimit": 10000
     },
     "inputWidgets": {},
     "nuid": "0bfc8126-e0b5-49fa-90d8-2efa3c3ba07c",
     "showTitle": false,
     "tableResultSettingsMap": {},
     "title": ""
    }
   },
   "outputs": [],
   "source": [
    "# MERGE INTO silver_titles AS target\n",
    "# USING (\n",
    "#     SELECT emp_no, title, from_date AS effective_from, to_date AS effective_to\n",
    "#     FROM raw_titles\n",
    "# ) AS source\n",
    "# ON target.emp_no = source.emp_no\n",
    "#    AND target.is_current = 'Y'\n",
    "#    AND source.effective_from > target.effective_from\n",
    "# WHEN MATCHED AND source.title <> target.title THEN\n",
    "#     -- Close old record\n",
    "#     UPDATE SET \n",
    "#         target.effective_to = source.effective_from - INTERVAL '1 DAY',\n",
    "#         target.is_current = 'N'\n",
    "# WHEN NOT MATCHED THEN \n",
    "#     -- Insert new title record\n",
    "#     INSERT (emp_no, title, effective_from, effective_to, is_current)\n",
    "#     VALUES (source.emp_no, source.title, source.effective_from, source.effective_to, \n",
    "#             CASE WHEN source.effective_to IS NULL THEN 'Y' ELSE 'N' END);\n"
   ]
  },
  {
   "cell_type": "code",
   "execution_count": 0,
   "metadata": {
    "application/vnd.databricks.v1+cell": {
     "cellMetadata": {
      "byteLimit": 2048000,
      "rowLimit": 10000
     },
     "inputWidgets": {},
     "nuid": "05d1515e-ec2f-4056-b5ff-c499aee93692",
     "showTitle": false,
     "tableResultSettingsMap": {},
     "title": ""
    }
   },
   "outputs": [],
   "source": []
  }
 ],
 "metadata": {
  "application/vnd.databricks.v1+notebook": {
   "computePreferences": null,
   "dashboards": [],
   "environmentMetadata": {
    "base_environment": "",
    "environment_version": "2"
   },
   "language": "python",
   "notebookMetadata": {
    "mostRecentlyExecutedCommandWithImplicitDF": {
     "commandId": -1,
     "dataframes": [
      "_sqldf"
     ]
    },
    "pythonIndentUnit": 4
   },
   "notebookName": "Silver Dept",
   "widgets": {}
  },
  "language_info": {
   "name": "python"
  }
 },
 "nbformat": 4,
 "nbformat_minor": 0
}